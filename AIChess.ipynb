{
 "cells": [
  {
   "cell_type": "code",
   "execution_count": 5,
   "id": "907ddd7b-43d3-437b-b5c8-e70207194c9c",
   "metadata": {},
   "outputs": [
    {
     "name": "stdout",
     "output_type": "stream",
     "text": [
      "Defaulting to user installation because normal site-packages is not writeable\n",
      "Requirement already satisfied: python-chess in c:\\users\\kiit\\appdata\\roaming\\python\\python312\\site-packages (1.999)\n",
      "Requirement already satisfied: chess<2,>=1 in c:\\users\\kiit\\appdata\\roaming\\python\\python312\\site-packages (from python-chess) (1.10.0)\n"
     ]
    }
   ],
   "source": [
    "# Install python-chess if not already installed\n",
    "!pip install python-chess\n",
    "!pip install tensorflow"
   ]
  },
  {
   "cell_type": "code",
   "execution_count": 27,
   "id": "b1d3b169-af3f-44ee-aff2-6664bd4a5f6a",
   "metadata": {},
   "outputs": [],
   "source": [
    "import chess.pgn\n",
    "import numpy as np\n",
    "import pandas as pd\n",
    "import chess\n",
    "import chess.engine"
   ]
  },
  {
   "cell_type": "code",
   "execution_count": 21,
   "id": "472f1184-5d74-41f7-91f3-841dce780562",
   "metadata": {},
   "outputs": [],
   "source": [
    "# Function to parse PGN file and extract moves\n",
    "def parse_pgn(pgn_file):\n",
    "    games = []\n",
    "    with open(pgn_file) as f:\n",
    "        while True:\n",
    "            game = chess.pgn.read_game(f)\n",
    "            if game is None:\n",
    "                break\n",
    "            moves = []\n",
    "            node = game\n",
    "            while not node.is_end():\n",
    "                next_node = node.variation(0)\n",
    "                move = node.board().san(next_node.move)\n",
    "                moves.append(move)\n",
    "                node = next_node\n",
    "            games.append(moves)\n",
    "    return games\n"
   ]
  },
  {
   "cell_type": "code",
   "execution_count": 25,
   "id": "24a64228-fc53-4021-b747-e9897a230fe6",
   "metadata": {},
   "outputs": [],
   "source": [
    "# Load and parse the PGN file\n",
    "games = parse_pgn('Carlsen.pgn')\n",
    "\n"
   ]
  },
  {
   "cell_type": "code",
   "execution_count": 27,
   "id": "4f6c3210-dc84-4bab-9e58-f2ea9041abe5",
   "metadata": {},
   "outputs": [
    {
     "data": {
      "text/html": [
       "<div>\n",
       "<style scoped>\n",
       "    .dataframe tbody tr th:only-of-type {\n",
       "        vertical-align: middle;\n",
       "    }\n",
       "\n",
       "    .dataframe tbody tr th {\n",
       "        vertical-align: top;\n",
       "    }\n",
       "\n",
       "    .dataframe thead th {\n",
       "        text-align: right;\n",
       "    }\n",
       "</style>\n",
       "<table border=\"1\" class=\"dataframe\">\n",
       "  <thead>\n",
       "    <tr style=\"text-align: right;\">\n",
       "      <th></th>\n",
       "      <th>0</th>\n",
       "      <th>1</th>\n",
       "      <th>2</th>\n",
       "      <th>3</th>\n",
       "      <th>4</th>\n",
       "      <th>5</th>\n",
       "      <th>6</th>\n",
       "      <th>7</th>\n",
       "      <th>8</th>\n",
       "      <th>9</th>\n",
       "      <th>...</th>\n",
       "      <th>338</th>\n",
       "      <th>339</th>\n",
       "      <th>340</th>\n",
       "      <th>341</th>\n",
       "      <th>342</th>\n",
       "      <th>343</th>\n",
       "      <th>344</th>\n",
       "      <th>345</th>\n",
       "      <th>346</th>\n",
       "      <th>347</th>\n",
       "    </tr>\n",
       "  </thead>\n",
       "  <tbody>\n",
       "    <tr>\n",
       "      <th>0</th>\n",
       "      <td>d4</td>\n",
       "      <td>Nf6</td>\n",
       "      <td>Nf3</td>\n",
       "      <td>d5</td>\n",
       "      <td>e3</td>\n",
       "      <td>Bf5</td>\n",
       "      <td>c4</td>\n",
       "      <td>c6</td>\n",
       "      <td>Nc3</td>\n",
       "      <td>e6</td>\n",
       "      <td>...</td>\n",
       "      <td>None</td>\n",
       "      <td>None</td>\n",
       "      <td>None</td>\n",
       "      <td>None</td>\n",
       "      <td>None</td>\n",
       "      <td>None</td>\n",
       "      <td>None</td>\n",
       "      <td>None</td>\n",
       "      <td>None</td>\n",
       "      <td>None</td>\n",
       "    </tr>\n",
       "    <tr>\n",
       "      <th>1</th>\n",
       "      <td>e4</td>\n",
       "      <td>Nf6</td>\n",
       "      <td>e5</td>\n",
       "      <td>Nd5</td>\n",
       "      <td>d4</td>\n",
       "      <td>d6</td>\n",
       "      <td>Nf3</td>\n",
       "      <td>Bg4</td>\n",
       "      <td>Bc4</td>\n",
       "      <td>e6</td>\n",
       "      <td>...</td>\n",
       "      <td>None</td>\n",
       "      <td>None</td>\n",
       "      <td>None</td>\n",
       "      <td>None</td>\n",
       "      <td>None</td>\n",
       "      <td>None</td>\n",
       "      <td>None</td>\n",
       "      <td>None</td>\n",
       "      <td>None</td>\n",
       "      <td>None</td>\n",
       "    </tr>\n",
       "    <tr>\n",
       "      <th>2</th>\n",
       "      <td>e4</td>\n",
       "      <td>e6</td>\n",
       "      <td>d4</td>\n",
       "      <td>d5</td>\n",
       "      <td>Nc3</td>\n",
       "      <td>Bb4</td>\n",
       "      <td>e5</td>\n",
       "      <td>Ne7</td>\n",
       "      <td>a3</td>\n",
       "      <td>Bxc3+</td>\n",
       "      <td>...</td>\n",
       "      <td>None</td>\n",
       "      <td>None</td>\n",
       "      <td>None</td>\n",
       "      <td>None</td>\n",
       "      <td>None</td>\n",
       "      <td>None</td>\n",
       "      <td>None</td>\n",
       "      <td>None</td>\n",
       "      <td>None</td>\n",
       "      <td>None</td>\n",
       "    </tr>\n",
       "    <tr>\n",
       "      <th>3</th>\n",
       "      <td>d4</td>\n",
       "      <td>d5</td>\n",
       "      <td>c4</td>\n",
       "      <td>e6</td>\n",
       "      <td>Nc3</td>\n",
       "      <td>Nf6</td>\n",
       "      <td>e3</td>\n",
       "      <td>Be7</td>\n",
       "      <td>Nf3</td>\n",
       "      <td>O-O</td>\n",
       "      <td>...</td>\n",
       "      <td>None</td>\n",
       "      <td>None</td>\n",
       "      <td>None</td>\n",
       "      <td>None</td>\n",
       "      <td>None</td>\n",
       "      <td>None</td>\n",
       "      <td>None</td>\n",
       "      <td>None</td>\n",
       "      <td>None</td>\n",
       "      <td>None</td>\n",
       "    </tr>\n",
       "    <tr>\n",
       "      <th>4</th>\n",
       "      <td>e4</td>\n",
       "      <td>c5</td>\n",
       "      <td>Nf3</td>\n",
       "      <td>Nc6</td>\n",
       "      <td>d4</td>\n",
       "      <td>cxd4</td>\n",
       "      <td>Nxd4</td>\n",
       "      <td>e5</td>\n",
       "      <td>Nb5</td>\n",
       "      <td>d6</td>\n",
       "      <td>...</td>\n",
       "      <td>None</td>\n",
       "      <td>None</td>\n",
       "      <td>None</td>\n",
       "      <td>None</td>\n",
       "      <td>None</td>\n",
       "      <td>None</td>\n",
       "      <td>None</td>\n",
       "      <td>None</td>\n",
       "      <td>None</td>\n",
       "      <td>None</td>\n",
       "    </tr>\n",
       "  </tbody>\n",
       "</table>\n",
       "<p>5 rows × 348 columns</p>\n",
       "</div>"
      ],
      "text/plain": [
       "  0    1    2    3    4     5     6    7    8      9    ...   338   339   340  \\\n",
       "0  d4  Nf6  Nf3   d5   e3   Bf5    c4   c6  Nc3     e6  ...  None  None  None   \n",
       "1  e4  Nf6   e5  Nd5   d4    d6   Nf3  Bg4  Bc4     e6  ...  None  None  None   \n",
       "2  e4   e6   d4   d5  Nc3   Bb4    e5  Ne7   a3  Bxc3+  ...  None  None  None   \n",
       "3  d4   d5   c4   e6  Nc3   Nf6    e3  Be7  Nf3    O-O  ...  None  None  None   \n",
       "4  e4   c5  Nf3  Nc6   d4  cxd4  Nxd4   e5  Nb5     d6  ...  None  None  None   \n",
       "\n",
       "    341   342   343   344   345   346   347  \n",
       "0  None  None  None  None  None  None  None  \n",
       "1  None  None  None  None  None  None  None  \n",
       "2  None  None  None  None  None  None  None  \n",
       "3  None  None  None  None  None  None  None  \n",
       "4  None  None  None  None  None  None  None  \n",
       "\n",
       "[5 rows x 348 columns]"
      ]
     },
     "execution_count": 27,
     "metadata": {},
     "output_type": "execute_result"
    }
   ],
   "source": [
    "# Convert moves to a dataframe for easier handling\n",
    "df = pd.DataFrame(games)\n",
    "df.head()"
   ]
  },
  {
   "cell_type": "code",
   "execution_count": 29,
   "id": "119a2cc7-2d06-4090-b656-d3b93b466792",
   "metadata": {},
   "outputs": [],
   "source": [
    "# Function to convert board to a matrix\n",
    "def board_to_matrix(board):\n",
    "    piece_map = board.piece_map()\n",
    "    matrix = np.zeros((8, 8), dtype=np.int8)\n",
    "    for square, piece in piece_map.items():\n",
    "        matrix[square // 8, square % 8] = piece.piece_type * (1 if piece.color == chess.WHITE else -1)\n",
    "    return matrix\n"
   ]
  },
  {
   "cell_type": "code",
   "execution_count": 31,
   "id": "59beea15-5e8e-4cb7-a81c-316a0346abcb",
   "metadata": {},
   "outputs": [],
   "source": [
    "# Generate input and output pairs for training\n",
    "X, y = [], []\n",
    "for moves in games:\n",
    "    board = chess.Board()\n",
    "    for move in moves:\n",
    "        X.append(board_to_matrix(board))\n",
    "        board.push_san(move)\n",
    "        y.append(board_to_matrix(board))\n",
    "\n",
    "\n"
   ]
  },
  {
   "cell_type": "code",
   "execution_count": 33,
   "id": "0aad1f6a-e5fe-4487-a2c5-7e3640c30a2f",
   "metadata": {},
   "outputs": [],
   "source": [
    "# Convert to numpy arrays\n",
    "X = np.array(X)\n",
    "y = np.array(y)"
   ]
  },
  {
   "cell_type": "code",
   "execution_count": 35,
   "id": "1f3c0d37-0757-44e8-ac42-99ce9c0431d9",
   "metadata": {},
   "outputs": [],
   "source": [
    "# Reshape for CNN input\n",
    "X = X.reshape(-1, 8, 8, 1)\n",
    "y = y.reshape(-1, 8, 8, 1)"
   ]
  },
  {
   "cell_type": "code",
   "execution_count": 29,
   "id": "14acfdd8-0611-4fc4-af59-9865291a9954",
   "metadata": {},
   "outputs": [],
   "source": [
    "import tensorflow as tf\n",
    "from tensorflow.keras.models import Sequential\n",
    "from tensorflow.keras.layers import Conv2D, MaxPooling2D, Flatten, Dense, Reshape, Input"
   ]
  },
  {
   "cell_type": "code",
   "execution_count": 43,
   "id": "1be5e881-db04-4532-a6cf-e6639463d78e",
   "metadata": {},
   "outputs": [],
   "source": [
    "# Build the CNN model\n",
    "model = Sequential([\n",
    "    Input(shape=(8, 8, 1)),  \n",
    "    Conv2D(32, kernel_size=(3, 3), activation='relu'),\n",
    "    MaxPooling2D(pool_size=(2, 2)),\n",
    "    Conv2D(64, kernel_size=(3, 3), activation='relu'),\n",
    "    Flatten(),\n",
    "    Dense(512, activation='relu'),\n",
    "    Dense(8 * 8 * 13, activation='softmax'),\n",
    "    Reshape((8, 8, 13))\n",
    "])"
   ]
  },
  {
   "cell_type": "code",
   "execution_count": 53,
   "id": "f665d1a4-0d51-45c1-975e-86939937810f",
   "metadata": {},
   "outputs": [],
   "source": [
    "# Compile the model\n",
    "model.compile(optimizer='adam', loss='categorical_crossentropy', metrics=['accuracy'])\n"
   ]
  },
  {
   "cell_type": "code",
   "execution_count": 57,
   "id": "5e33e1c4-2ee9-47f9-b407-176c3499b3af",
   "metadata": {},
   "outputs": [
    {
     "name": "stdout",
     "output_type": "stream",
     "text": [
      "Epoch 1/10\n",
      "\u001b[1m17390/17390\u001b[0m \u001b[32m━━━━━━━━━━━━━━━━━━━━\u001b[0m\u001b[37m\u001b[0m \u001b[1m103s\u001b[0m 6ms/step - accuracy: 0.8174 - loss: 0.5725\n",
      "Epoch 2/10\n",
      "\u001b[1m17390/17390\u001b[0m \u001b[32m━━━━━━━━━━━━━━━━━━━━\u001b[0m\u001b[37m\u001b[0m \u001b[1m100s\u001b[0m 6ms/step - accuracy: 0.8764 - loss: 0.3883\n",
      "Epoch 3/10\n",
      "\u001b[1m17390/17390\u001b[0m \u001b[32m━━━━━━━━━━━━━━━━━━━━\u001b[0m\u001b[37m\u001b[0m \u001b[1m101s\u001b[0m 6ms/step - accuracy: 0.8903 - loss: 0.3497\n",
      "Epoch 4/10\n",
      "\u001b[1m17390/17390\u001b[0m \u001b[32m━━━━━━━━━━━━━━━━━━━━\u001b[0m\u001b[37m\u001b[0m \u001b[1m101s\u001b[0m 6ms/step - accuracy: 0.8976 - loss: 0.3298\n",
      "Epoch 5/10\n",
      "\u001b[1m17390/17390\u001b[0m \u001b[32m━━━━━━━━━━━━━━━━━━━━\u001b[0m\u001b[37m\u001b[0m \u001b[1m110s\u001b[0m 6ms/step - accuracy: 0.9024 - loss: 0.3169\n",
      "Epoch 6/10\n",
      "\u001b[1m17390/17390\u001b[0m \u001b[32m━━━━━━━━━━━━━━━━━━━━\u001b[0m\u001b[37m\u001b[0m \u001b[1m104s\u001b[0m 6ms/step - accuracy: 0.9056 - loss: 0.3083\n",
      "Epoch 7/10\n",
      "\u001b[1m17390/17390\u001b[0m \u001b[32m━━━━━━━━━━━━━━━━━━━━\u001b[0m\u001b[37m\u001b[0m \u001b[1m108s\u001b[0m 6ms/step - accuracy: 0.9083 - loss: 0.3007\n",
      "Epoch 8/10\n",
      "\u001b[1m17390/17390\u001b[0m \u001b[32m━━━━━━━━━━━━━━━━━━━━\u001b[0m\u001b[37m\u001b[0m \u001b[1m108s\u001b[0m 6ms/step - accuracy: 0.9100 - loss: 0.2959\n",
      "Epoch 9/10\n",
      "\u001b[1m17390/17390\u001b[0m \u001b[32m━━━━━━━━━━━━━━━━━━━━\u001b[0m\u001b[37m\u001b[0m \u001b[1m107s\u001b[0m 6ms/step - accuracy: 0.9115 - loss: 0.2917\n",
      "Epoch 10/10\n",
      "\u001b[1m17390/17390\u001b[0m \u001b[32m━━━━━━━━━━━━━━━━━━━━\u001b[0m\u001b[37m\u001b[0m \u001b[1m106s\u001b[0m 6ms/step - accuracy: 0.9127 - loss: 0.2886\n"
     ]
    },
    {
     "data": {
      "text/plain": [
       "<keras.src.callbacks.history.History at 0x212b8fcf950>"
      ]
     },
     "execution_count": 57,
     "metadata": {},
     "output_type": "execute_result"
    }
   ],
   "source": [
    "# Train the model\n",
    "model.fit(X, y, epochs=10, batch_size=32)"
   ]
  },
  {
   "cell_type": "code",
   "execution_count": 69,
   "id": "4d81ee3f-4a01-4952-b941-7011c2ab7af9",
   "metadata": {},
   "outputs": [],
   "source": [
    "# Save the model with the optimizer configuration\n",
    "model.save('chess_cnn_model.keras')\n",
    "\n"
   ]
  },
  {
   "cell_type": "code",
   "execution_count": 1,
   "id": "cc21f3b4-adb2-4977-abe1-938bfa745776",
   "metadata": {},
   "outputs": [],
   "source": [
    "from keras.models import load_model\n",
    "\n",
    "# Load the model from the file in native Keras format\n",
    "model = load_model('chess_cnn_model.keras')\n"
   ]
  },
  {
   "cell_type": "code",
   "execution_count": 31,
   "id": "88e707e7-eb09-4ec9-a571-53028c29bd68",
   "metadata": {},
   "outputs": [],
   "source": [
    "# Function to convert board to a matrix\n",
    "def board_to_matrix(board):\n",
    "    piece_map = board.piece_map()\n",
    "    matrix = np.zeros((8, 8), dtype=int)\n",
    "    for square, piece in piece_map.items():\n",
    "        row, col = divmod(square, 8)\n",
    "        matrix[row][col] = piece.piece_type\n",
    "    return matrix"
   ]
  },
  {
   "cell_type": "code",
   "execution_count": 33,
   "id": "ac92a2d0-fc39-42cd-8654-6d5ef5532ffb",
   "metadata": {},
   "outputs": [],
   "source": [
    "# Function to convert matrix back to a chess board\n",
    "def matrix_to_board(matrix):\n",
    "    board = chess.Board()\n",
    "    board.clear_board()\n",
    "    for i in range(8):\n",
    "        for j in range(8):\n",
    "            if matrix[i][j] != 0:\n",
    "                piece = chess.Piece(matrix[i][j], chess.WHITE if matrix[i][j] > 0 else chess.BLACK)\n",
    "                board.set_piece_at(chess.square(j, i), piece)\n",
    "    return board"
   ]
  },
  {
   "cell_type": "code",
   "execution_count": 35,
   "id": "5846560d-3701-49da-b1b2-d28fe2827866",
   "metadata": {},
   "outputs": [],
   "source": [
    "# Function to find the best move predicted by the model\n",
    "def find_best_move(board, predicted_matrix):\n",
    "    legal_moves = list(board.legal_moves)\n",
    "    best_move = None\n",
    "    max_confidence = -1\n",
    "    \n",
    "    for move in legal_moves:\n",
    "        board.push(move)\n",
    "        move_matrix = board_to_matrix(board).reshape(1, 8, 8, 1)\n",
    "        board.pop()\n",
    "        \n",
    "        confidence = np.max(predicted_matrix)\n",
    "        if confidence > max_confidence:\n",
    "            max_confidence = confidence\n",
    "            best_move = move\n",
    "            \n",
    "    return best_move"
   ]
  },
  {
   "cell_type": "code",
   "execution_count": 37,
   "id": "c74e620c-caca-4c24-9d7d-fdb81a59ce64",
   "metadata": {},
   "outputs": [],
   "source": [
    "# Function to make a move using the model\n",
    "def make_move(board, model):\n",
    "    board_matrix = board_to_matrix(board).reshape(1, 8, 8, 1)\n",
    "    predicted_matrix = model.predict(board_matrix)\n",
    "    best_move = find_best_move(board, predicted_matrix)\n",
    "    move_san = board.san(best_move)\n",
    "    board.push(best_move)\n",
    "    return move_san"
   ]
  },
  {
   "cell_type": "code",
   "execution_count": 39,
   "id": "b842e549-c864-420e-bfed-ccd1a603fda9",
   "metadata": {},
   "outputs": [],
   "source": [
    "# Function to check if a move is legal\n",
    "def is_legal_move(board, move):\n",
    "    try:\n",
    "        move_obj = board.parse_san(move)\n",
    "        if move_obj in board.legal_moves:\n",
    "            return True\n",
    "        else:\n",
    "            return False\n",
    "    except:\n",
    "        return False"
   ]
  },
  {
   "cell_type": "code",
   "execution_count": 41,
   "id": "abbca0e8-a59b-4b2c-b128-8ce7a9e90e15",
   "metadata": {},
   "outputs": [],
   "source": [
    "# Function to handle ambiguous moves\n",
    "def handle_ambiguous_move(board, move):\n",
    "    try:\n",
    "        board.push_san(move)\n",
    "        return True\n",
    "    except chess.AmbiguousMoveError:\n",
    "        print(f\"Ambiguous move: {move}. Please specify the move more clearly.\")\n",
    "        return False\n",
    "    except ValueError:\n",
    "        print(f\"Illegal move: {move}. Please try again.\")\n",
    "        return False"
   ]
  },
  {
   "cell_type": "code",
   "execution_count": 43,
   "id": "cb32c06f-dd69-418a-9604-865af6f19d42",
   "metadata": {},
   "outputs": [],
   "source": [
    "import chess\n",
    "import chess.engine\n",
    "\n",
    "# Function to play against Stockfish\n",
    "def play_against_stockfish(board, model, stockfish_path):\n",
    "    engine = chess.engine.SimpleEngine.popen_uci(stockfish_path)\n",
    "    \n",
    "    while not board.is_game_over():\n",
    "        print(board)\n",
    "        user_choice = input(\"Enter 'user' to make a move, 'stockfish' to let Stockfish make a move, or 'abort' to end the game: \").strip().lower()\n",
    "        \n",
    "        if user_choice == 'abort':\n",
    "            print(\"Game aborted by user.\")\n",
    "            break\n",
    "        \n",
    "        if user_choice == 'user':\n",
    "            user_move = input(\"Your move: \")\n",
    "            while not handle_ambiguous_move(board, user_move):\n",
    "                user_move = input(\"Your move: \")\n",
    "                if user_move.lower() == 'abort':\n",
    "                    print(\"Game aborted by user.\")\n",
    "                    return\n",
    "        \n",
    "        elif user_choice == 'stockfish':\n",
    "            result = engine.play(board, chess.engine.Limit(time=1.0))\n",
    "            board.push(result.move)\n",
    "            print(f\"Stockfish move: {board.san(result.move)}\")\n",
    "        \n",
    "        else:\n",
    "            print(\"Invalid choice. Please enter 'user', 'stockfish', or 'abort'.\")\n",
    "            continue\n",
    "        \n",
    "        if board.is_game_over():\n",
    "            break\n",
    "        \n",
    "        model_move = make_move(board, model)\n",
    "        print(f\"Model move: {model_move}\")\n",
    "    \n",
    "    engine.quit()"
   ]
  },
  {
   "cell_type": "code",
   "execution_count": 51,
   "id": "07be512b-c77f-4c56-bcdb-602fb56d7473",
   "metadata": {},
   "outputs": [],
   "source": [
    "# Play a game against Stockfish\n",
    "# board = chess.Board()\n",
    "# stockfish_path = \"path/to/stockfish\"  # Replace with the actual path to the Stockfish executable\n",
    "# play_against_stockfish(board, model, stockfish_path)"
   ]
  },
  {
   "cell_type": "code",
   "execution_count": 49,
   "id": "65ecfdd8-1bfc-4cf6-ad09-3bc8c6f22ff3",
   "metadata": {},
   "outputs": [
    {
     "name": "stdout",
     "output_type": "stream",
     "text": [
      "r n b q k b n r\n",
      "p p p p p p p p\n",
      ". . . . . . . .\n",
      ". . . . . . . .\n",
      ". . . . . . . .\n",
      ". . . . . . . .\n",
      "P P P P P P P P\n",
      "R N B Q K B N R\n"
     ]
    },
    {
     "name": "stdin",
     "output_type": "stream",
     "text": [
      "Your move (or type 'abort' to quit):  e4\n"
     ]
    },
    {
     "name": "stdout",
     "output_type": "stream",
     "text": [
      "\u001b[1m1/1\u001b[0m \u001b[32m━━━━━━━━━━━━━━━━━━━━\u001b[0m\u001b[37m\u001b[0m \u001b[1m0s\u001b[0m 19ms/step\n",
      "Model move: Nh6\n",
      "r n b q k b . r\n",
      "p p p p p p p p\n",
      ". . . . . . . n\n",
      ". . . . . . . .\n",
      ". . . . P . . .\n",
      ". . . . . . . .\n",
      "P P P P . P P P\n",
      "R N B Q K B N R\n",
      "r n b q k b . r\n",
      "p p p p p p p p\n",
      ". . . . . . . n\n",
      ". . . . . . . .\n",
      ". . . . P . . .\n",
      ". . . . . . . .\n",
      "P P P P . P P P\n",
      "R N B Q K B N R\n"
     ]
    },
    {
     "name": "stdin",
     "output_type": "stream",
     "text": [
      "Your move (or type 'abort' to quit):  Nc3\n"
     ]
    },
    {
     "name": "stdout",
     "output_type": "stream",
     "text": [
      "\u001b[1m1/1\u001b[0m \u001b[32m━━━━━━━━━━━━━━━━━━━━\u001b[0m\u001b[37m\u001b[0m \u001b[1m0s\u001b[0m 20ms/step\n",
      "Model move: Rg8\n",
      "r n b q k b r .\n",
      "p p p p p p p p\n",
      ". . . . . . . n\n",
      ". . . . . . . .\n",
      ". . . . P . . .\n",
      ". . N . . . . .\n",
      "P P P P . P P P\n",
      "R . B Q K B N R\n",
      "r n b q k b r .\n",
      "p p p p p p p p\n",
      ". . . . . . . n\n",
      ". . . . . . . .\n",
      ". . . . P . . .\n",
      ". . N . . . . .\n",
      "P P P P . P P P\n",
      "R . B Q K B N R\n"
     ]
    },
    {
     "name": "stdin",
     "output_type": "stream",
     "text": [
      "Your move (or type 'abort' to quit):  d4\n"
     ]
    },
    {
     "name": "stdout",
     "output_type": "stream",
     "text": [
      "\u001b[1m1/1\u001b[0m \u001b[32m━━━━━━━━━━━━━━━━━━━━\u001b[0m\u001b[37m\u001b[0m \u001b[1m0s\u001b[0m 20ms/step\n",
      "Model move: Rh8\n",
      "r n b q k b . r\n",
      "p p p p p p p p\n",
      ". . . . . . . n\n",
      ". . . . . . . .\n",
      ". . . P P . . .\n",
      ". . N . . . . .\n",
      "P P P . . P P P\n",
      "R . B Q K B N R\n",
      "r n b q k b . r\n",
      "p p p p p p p p\n",
      ". . . . . . . n\n",
      ". . . . . . . .\n",
      ". . . P P . . .\n",
      ". . N . . . . .\n",
      "P P P . . P P P\n",
      "R . B Q K B N R\n"
     ]
    },
    {
     "name": "stdin",
     "output_type": "stream",
     "text": [
      "Your move (or type 'abort' to quit):  Bh5\n"
     ]
    },
    {
     "name": "stdout",
     "output_type": "stream",
     "text": [
      "Illegal move: Bh5. Please try again.\n"
     ]
    },
    {
     "name": "stdin",
     "output_type": "stream",
     "text": [
      "Your move (or type 'abort' to quit):  Be2\n"
     ]
    },
    {
     "name": "stdout",
     "output_type": "stream",
     "text": [
      "\u001b[1m1/1\u001b[0m \u001b[32m━━━━━━━━━━━━━━━━━━━━\u001b[0m\u001b[37m\u001b[0m \u001b[1m0s\u001b[0m 20ms/step\n",
      "Model move: Rg8\n",
      "r n b q k b r .\n",
      "p p p p p p p p\n",
      ". . . . . . . n\n",
      ". . . . . . . .\n",
      ". . . P P . . .\n",
      ". . N . . . . .\n",
      "P P P . B P P P\n",
      "R . B Q K . N R\n",
      "r n b q k b r .\n",
      "p p p p p p p p\n",
      ". . . . . . . n\n",
      ". . . . . . . .\n",
      ". . . P P . . .\n",
      ". . N . . . . .\n",
      "P P P . B P P P\n",
      "R . B Q K . N R\n"
     ]
    },
    {
     "name": "stdin",
     "output_type": "stream",
     "text": [
      "Your move (or type 'abort' to quit):  Bh5\n"
     ]
    },
    {
     "name": "stdout",
     "output_type": "stream",
     "text": [
      "\u001b[1m1/1\u001b[0m \u001b[32m━━━━━━━━━━━━━━━━━━━━\u001b[0m\u001b[37m\u001b[0m \u001b[1m0s\u001b[0m 35ms/step\n",
      "Model move: Rh8\n",
      "r n b q k b . r\n",
      "p p p p p p p p\n",
      ". . . . . . . n\n",
      ". . . . . . . B\n",
      ". . . P P . . .\n",
      ". . N . . . . .\n",
      "P P P . . P P P\n",
      "R . B Q K . N R\n",
      "r n b q k b . r\n",
      "p p p p p p p p\n",
      ". . . . . . . n\n",
      ". . . . . . . B\n",
      ". . . P P . . .\n",
      ". . N . . . . .\n",
      "P P P . . P P P\n",
      "R . B Q K . N R\n"
     ]
    },
    {
     "name": "stdin",
     "output_type": "stream",
     "text": [
      "Your move (or type 'abort' to quit):  Qd3\n"
     ]
    },
    {
     "name": "stdout",
     "output_type": "stream",
     "text": [
      "\u001b[1m1/1\u001b[0m \u001b[32m━━━━━━━━━━━━━━━━━━━━\u001b[0m\u001b[37m\u001b[0m \u001b[1m0s\u001b[0m 20ms/step\n",
      "Model move: Rg8\n",
      "r n b q k b r .\n",
      "p p p p p p p p\n",
      ". . . . . . . n\n",
      ". . . . . . . B\n",
      ". . . P P . . .\n",
      ". . N Q . . . .\n",
      "P P P . . P P P\n",
      "R . B . K . N R\n",
      "r n b q k b r .\n",
      "p p p p p p p p\n",
      ". . . . . . . n\n",
      ". . . . . . . B\n",
      ". . . P P . . .\n",
      ". . N Q . . . .\n",
      "P P P . . P P P\n",
      "R . B . K . N R\n"
     ]
    },
    {
     "name": "stdin",
     "output_type": "stream",
     "text": [
      "Your move (or type 'abort' to quit):  Qf3\n"
     ]
    },
    {
     "name": "stdout",
     "output_type": "stream",
     "text": [
      "\u001b[1m1/1\u001b[0m \u001b[32m━━━━━━━━━━━━━━━━━━━━\u001b[0m\u001b[37m\u001b[0m \u001b[1m0s\u001b[0m 7ms/step\n",
      "Model move: Rh8\n",
      "r n b q k b . r\n",
      "p p p p p p p p\n",
      ". . . . . . . n\n",
      ". . . . . . . B\n",
      ". . . P P . . .\n",
      ". . N . . Q . .\n",
      "P P P . . P P P\n",
      "R . B . K . N R\n",
      "r n b q k b . r\n",
      "p p p p p p p p\n",
      ". . . . . . . n\n",
      ". . . . . . . B\n",
      ". . . P P . . .\n",
      ". . N . . Q . .\n",
      "P P P . . P P P\n",
      "R . B . K . N R\n"
     ]
    },
    {
     "name": "stdin",
     "output_type": "stream",
     "text": [
      "Your move (or type 'abort' to quit):  Bf5\n"
     ]
    },
    {
     "name": "stdout",
     "output_type": "stream",
     "text": [
      "Illegal move: Bf5. Please try again.\n"
     ]
    },
    {
     "name": "stdin",
     "output_type": "stream",
     "text": [
      "Your move (or type 'abort' to quit):  Bf7\n"
     ]
    },
    {
     "name": "stdout",
     "output_type": "stream",
     "text": [
      "\u001b[1m1/1\u001b[0m \u001b[32m━━━━━━━━━━━━━━━━━━━━\u001b[0m\u001b[37m\u001b[0m \u001b[1m0s\u001b[0m 19ms/step\n",
      "Model move: Nxf7\n",
      "r n b q k b . r\n",
      "p p p p p n p p\n",
      ". . . . . . . .\n",
      ". . . . . . . .\n",
      ". . . P P . . .\n",
      ". . N . . Q . .\n",
      "P P P . . P P P\n",
      "R . B . K . N R\n",
      "r n b q k b . r\n",
      "p p p p p n p p\n",
      ". . . . . . . .\n",
      ". . . . . . . .\n",
      ". . . P P . . .\n",
      ". . N . . Q . .\n",
      "P P P . . P P P\n",
      "R . B . K . N R\n"
     ]
    },
    {
     "name": "stdin",
     "output_type": "stream",
     "text": [
      "Your move (or type 'abort' to quit):  Nd5\n"
     ]
    },
    {
     "name": "stdout",
     "output_type": "stream",
     "text": [
      "\u001b[1m1/1\u001b[0m \u001b[32m━━━━━━━━━━━━━━━━━━━━\u001b[0m\u001b[37m\u001b[0m \u001b[1m0s\u001b[0m 10ms/step\n",
      "Model move: Rg8\n",
      "r n b q k b r .\n",
      "p p p p p n p p\n",
      ". . . . . . . .\n",
      ". . . N . . . .\n",
      ". . . P P . . .\n",
      ". . . . . Q . .\n",
      "P P P . . P P P\n",
      "R . B . K . N R\n",
      "r n b q k b r .\n",
      "p p p p p n p p\n",
      ". . . . . . . .\n",
      ". . . N . . . .\n",
      ". . . P P . . .\n",
      ". . . . . Q . .\n",
      "P P P . . P P P\n",
      "R . B . K . N R\n"
     ]
    },
    {
     "name": "stdin",
     "output_type": "stream",
     "text": [
      "Your move (or type 'abort' to quit):  Bf4\n"
     ]
    },
    {
     "name": "stdout",
     "output_type": "stream",
     "text": [
      "\u001b[1m1/1\u001b[0m \u001b[32m━━━━━━━━━━━━━━━━━━━━\u001b[0m\u001b[37m\u001b[0m \u001b[1m0s\u001b[0m 12ms/step\n",
      "Model move: Rh8\n",
      "r n b q k b . r\n",
      "p p p p p n p p\n",
      ". . . . . . . .\n",
      ". . . N . . . .\n",
      ". . . P P B . .\n",
      ". . . . . Q . .\n",
      "P P P . . P P P\n",
      "R . . . K . N R\n",
      "r n b q k b . r\n",
      "p p p p p n p p\n",
      ". . . . . . . .\n",
      ". . . N . . . .\n",
      ". . . P P B . .\n",
      ". . . . . Q . .\n",
      "P P P . . P P P\n",
      "R . . . K . N R\n"
     ]
    },
    {
     "name": "stdin",
     "output_type": "stream",
     "text": [
      "Your move (or type 'abort' to quit):  Nc7\n"
     ]
    },
    {
     "name": "stdout",
     "output_type": "stream",
     "text": [
      "\u001b[1m1/1\u001b[0m \u001b[32m━━━━━━━━━━━━━━━━━━━━\u001b[0m\u001b[37m\u001b[0m \u001b[1m0s\u001b[0m 11ms/step\n",
      "Model move: Qxc7\n",
      "r n b . k b . r\n",
      "p p q p p n p p\n",
      ". . . . . . . .\n",
      ". . . . . . . .\n",
      ". . . P P B . .\n",
      ". . . . . Q . .\n",
      "P P P . . P P P\n",
      "R . . . K . N R\n",
      "r n b . k b . r\n",
      "p p q p p n p p\n",
      ". . . . . . . .\n",
      ". . . . . . . .\n",
      ". . . P P B . .\n",
      ". . . . . Q . .\n",
      "P P P . . P P P\n",
      "R . . . K . N R\n"
     ]
    },
    {
     "name": "stdin",
     "output_type": "stream",
     "text": [
      "Your move (or type 'abort' to quit):  Bc7\n"
     ]
    },
    {
     "name": "stdout",
     "output_type": "stream",
     "text": [
      "\u001b[1m1/1\u001b[0m \u001b[32m━━━━━━━━━━━━━━━━━━━━\u001b[0m\u001b[37m\u001b[0m \u001b[1m0s\u001b[0m 20ms/step\n",
      "Model move: Rg8\n",
      "r n b . k b r .\n",
      "p p B p p n p p\n",
      ". . . . . . . .\n",
      ". . . . . . . .\n",
      ". . . P P . . .\n",
      ". . . . . Q . .\n",
      "P P P . . P P P\n",
      "R . . . K . N R\n",
      "r n b . k b r .\n",
      "p p B p p n p p\n",
      ". . . . . . . .\n",
      ". . . . . . . .\n",
      ". . . P P . . .\n",
      ". . . . . Q . .\n",
      "P P P . . P P P\n",
      "R . . . K . N R\n"
     ]
    },
    {
     "name": "stdin",
     "output_type": "stream",
     "text": [
      "Your move (or type 'abort' to quit):  Nh3\n"
     ]
    },
    {
     "name": "stdout",
     "output_type": "stream",
     "text": [
      "\u001b[1m1/1\u001b[0m \u001b[32m━━━━━━━━━━━━━━━━━━━━\u001b[0m\u001b[37m\u001b[0m \u001b[1m0s\u001b[0m 10ms/step\n",
      "Model move: Rh8\n",
      "r n b . k b . r\n",
      "p p B p p n p p\n",
      ". . . . . . . .\n",
      ". . . . . . . .\n",
      ". . . P P . . .\n",
      ". . . . . Q . N\n",
      "P P P . . P P P\n",
      "R . . . K . . R\n",
      "r n b . k b . r\n",
      "p p B p p n p p\n",
      ". . . . . . . .\n",
      ". . . . . . . .\n",
      ". . . P P . . .\n",
      ". . . . . Q . N\n",
      "P P P . . P P P\n",
      "R . . . K . . R\n"
     ]
    },
    {
     "name": "stdin",
     "output_type": "stream",
     "text": [
      "Your move (or type 'abort' to quit):  abort\n"
     ]
    },
    {
     "name": "stdout",
     "output_type": "stream",
     "text": [
      "Game aborted.\n"
     ]
    }
   ],
   "source": [
    "# Play a game against the model\n",
    "board = chess.Board()\n",
    "while not board.is_game_over():\n",
    "    print(board)\n",
    "    user_move = input(\"Your move (or type 'abort' to quit): \")\n",
    "    \n",
    "    if user_move.lower() == 'abort':\n",
    "        print(\"Game aborted.\")\n",
    "        break\n",
    "    \n",
    "    while not handle_ambiguous_move(board, user_move):\n",
    "        user_move = input(\"Your move (or type 'abort' to quit): \")\n",
    "        if user_move.lower() == 'abort':\n",
    "            print(\"Game aborted.\")\n",
    "            break\n",
    "    \n",
    "    if board.is_game_over():\n",
    "        break\n",
    "    \n",
    "    model_move = make_move(board, model)\n",
    "    print(f\"Model move: {model_move}\")\n",
    "    print(board)"
   ]
  },
  {
   "cell_type": "code",
   "execution_count": null,
   "id": "c127109d-0330-4c9c-9072-d858e402cc4c",
   "metadata": {},
   "outputs": [],
   "source": []
  }
 ],
 "metadata": {
  "kernelspec": {
   "display_name": "Python 3 (ipykernel)",
   "language": "python",
   "name": "python3"
  },
  "language_info": {
   "codemirror_mode": {
    "name": "ipython",
    "version": 3
   },
   "file_extension": ".py",
   "mimetype": "text/x-python",
   "name": "python",
   "nbconvert_exporter": "python",
   "pygments_lexer": "ipython3",
   "version": "3.12.4"
  }
 },
 "nbformat": 4,
 "nbformat_minor": 5
}
